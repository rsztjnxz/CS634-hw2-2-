{
  "nbformat": 4,
  "nbformat_minor": 0,
  "metadata": {
    "colab": {
      "provenance": [],
      "authorship_tag": "ABX9TyPUYFNBufW4aHDxZKMm77/J",
      "include_colab_link": true
    },
    "kernelspec": {
      "name": "python3",
      "display_name": "Python 3"
    },
    "language_info": {
      "name": "python"
    }
  },
  "cells": [
    {
      "cell_type": "markdown",
      "metadata": {
        "id": "view-in-github",
        "colab_type": "text"
      },
      "source": [
        "<a href=\"https://colab.research.google.com/github/rsztjnxz/CS634-hw2-2-/blob/main/cs634_hw2(RE).ipynb\" target=\"_parent\"><img src=\"https://colab.research.google.com/assets/colab-badge.svg\" alt=\"Open In Colab\"/></a>"
      ]
    },
    {
      "cell_type": "markdown",
      "source": [
        "#Down load data"
      ],
      "metadata": {
        "id": "pMHoOtMMA7iV"
      }
    },
    {
      "cell_type": "code",
      "execution_count": 28,
      "metadata": {
        "colab": {
          "base_uri": "https://localhost:8080/"
        },
        "id": "WYQ-E35vx2YT",
        "outputId": "30065bc0-0698-4ee2-c38f-9f5a98c3b445"
      },
      "outputs": [
        {
          "output_type": "stream",
          "name": "stdout",
          "text": [
            "Downloading...\n",
            "From: https://drive.google.com/uc?export=download\n",
            "To: /content/uc?export=download\n",
            "\r0.00B [00:00, ?B/s]\r1.69kB [00:00, 2.34MB/s]\n"
          ]
        }
      ],
      "source": [
        "!gdown https://drive.google.com/uc?export=download&id=1eIHm56FPV2B0VOW6fgf2tQWEu-tkk36w"
      ]
    },
    {
      "cell_type": "code",
      "source": [
        "from google.colab import drive\n",
        "drive.mount('/content/drive')"
      ],
      "metadata": {
        "colab": {
          "base_uri": "https://localhost:8080/"
        },
        "id": "3d4X8EXi75UG",
        "outputId": "2626c86e-53f6-43c5-8de9-54de61b3c152"
      },
      "execution_count": 27,
      "outputs": [
        {
          "output_type": "stream",
          "name": "stdout",
          "text": [
            "Drive already mounted at /content/drive; to attempt to forcibly remount, call drive.mount(\"/content/drive\", force_remount=True).\n"
          ]
        }
      ]
    },
    {
      "cell_type": "code",
      "source": [
        "import pandas as pd\n",
        "from scipy.stats import poisson\n",
        "import matplotlib.pyplot as plt\n",
        "import scipy.stats as stats\n",
        "\n",
        "df = pd.read_csv('/content/drive/MyDrive/data_hw2.csv')\n",
        "\n",
        "df.head()\n",
        "\n",
        "x = df.BB_COUNT\n",
        "x = pd.DataFrame(x)\n",
        "y = x.value_counts\n"
      ],
      "metadata": {
        "id": "ohlulYTmx6K-"
      },
      "execution_count": 29,
      "outputs": []
    },
    {
      "cell_type": "markdown",
      "source": [
        "#Creat X and Y variable"
      ],
      "metadata": {
        "id": "DewvN0qOBQG-"
      }
    },
    {
      "cell_type": "code",
      "source": [
        "Sum_list = list(y)\n",
        "Total = sum(Sum_list)\n",
        "\n",
        "res = list()\n",
        "for i in range(0, len(Sum_list), 1):\n",
        "  res.append((round(Sum_list[i]/Total,5)))\n"
      ],
      "metadata": {
        "id": "Dw3w2kjV4Si_"
      },
      "execution_count": 151,
      "outputs": []
    },
    {
      "cell_type": "code",
      "source": [
        "New_X = x['BB_COUNT']\n",
        "list_New_X = New_X.tolist()\n",
        "\n",
        "res_x = list()\n",
        "for i in list_New_X:\n",
        "  if i not in res_x:\n",
        "    res_x.append(i)\n",
        "\n",
        "df1 = pd.DataFrame({'x':res_x, \n",
        "                     'count':Sum_list,\n",
        "                    'y':res})"
      ],
      "metadata": {
        "id": "ud1VtGuCK5iW"
      },
      "execution_count": 152,
      "outputs": []
    },
    {
      "cell_type": "code",
      "source": [
        "dfx = np.array(df1.x)\n",
        "dfy = np.array(df1.y)"
      ],
      "metadata": {
        "id": "Xw1CCE_LWTEj"
      },
      "execution_count": 99,
      "outputs": []
    },
    {
      "cell_type": "markdown",
      "source": [
        "# Make the hist of X variable"
      ],
      "metadata": {
        "id": "ZmQXqWu4BUww"
      }
    },
    {
      "cell_type": "code",
      "source": [
        "plt.figure(figsize=(12,5))\n",
        "plt.subplot(121)\n",
        "plt.hist(df.BB_COUNT,bins=60)\n",
        "plt.xlabel('BB_count');plt.ylabel('counts')"
      ],
      "metadata": {
        "colab": {
          "base_uri": "https://localhost:8080/",
          "height": 353
        },
        "id": "YE6I8w0H9Ast",
        "outputId": "b908edd9-5ad2-4db0-99db-2fa2a36ff594"
      },
      "execution_count": 159,
      "outputs": [
        {
          "output_type": "execute_result",
          "data": {
            "text/plain": [
              "Text(0, 0.5, 'counts')"
            ]
          },
          "metadata": {},
          "execution_count": 159
        },
        {
          "output_type": "display_data",
          "data": {
            "text/plain": [
              "<Figure size 864x360 with 1 Axes>"
            ],
            "image/png": "[encoded data removed]"
          },
          "metadata": {
            "needs_background": "light"
          }
        }
      ]
    },
    {
      "cell_type": "code",
      "source": [
        "plt.scatter(dfx,dfy)\n",
        "plt.show()"
      ],
      "metadata": {
        "colab": {
          "base_uri": "https://localhost:8080/",
          "height": 265
        },
        "id": "xuRIMt9WoTHY",
        "outputId": "133bfe9b-af35-4a24-bb27-e8f322ccb1c7"
      },
      "execution_count": 154,
      "outputs": [
        {
          "output_type": "display_data",
          "data": {
            "text/plain": [
              "<Figure size 432x288 with 1 Axes>"
            ],
            "image/png": "[encoded data removed]"
          },
          "metadata": {
            "needs_background": "light"
          }
        }
      ]
    },
    {
      "cell_type": "markdown",
      "source": [
        "# Build Gradient Descend Function"
      ],
      "metadata": {
        "id": "6SLG-a_6Bc0I"
      }
    },
    {
      "cell_type": "code",
      "source": [
        "def descend(dfx, dfy, lambd, learning_rate,n_iterables):\n",
        "  m = len(dfx)\n",
        "  for i in range(n_iterables):\n",
        "    lambd_grad=0\n",
        "    for j in range(m):\n",
        "      lambd_grad += (1/m)* (poisson.pmf(dfx[j],lambd)-dfy[j])\n",
        "\n",
        "    lambd = lambd - (learning_rate * lambd_grad)\n",
        "    if i % 5 == 0:\n",
        "      print(f'No.{i} times iterables')\n",
        "      print(\"lambd_grad:\",lambd_grad)\n",
        "      print('lambd:',lambd)\n",
        "      plt.scatter(dfx,dfy,color=\"maroon\",marker='x')\n",
        "      plt.plot(dfx, poisson.pmf(dfx,lambd) )\n",
        "      plt.show()\n",
        "    return lambd"
      ],
      "metadata": {
        "id": "L4oW2G8kr6un"
      },
      "execution_count": 161,
      "outputs": []
    },
    {
      "cell_type": "code",
      "source": [
        "n_iterables = 500 # iteration times\n",
        "learning_rate = 0.05 \n",
        "lambd = 0\n",
        "print(\"start iteration\")\n",
        "lambd = descend(dfx, dfy, lambd, learning_rate,n_iterables)\n",
        "print(f'after {n_iterables} iteration: lambda = {lambd}')"
      ],
      "metadata": {
        "colab": {
          "base_uri": "https://localhost:8080/",
          "height": 356
        },
        "id": "sf6ROGAynfOS",
        "outputId": "71e73ab4-c587-4918-a879-da63d3d0a955"
      },
      "execution_count": 163,
      "outputs": [
        {
          "output_type": "stream",
          "name": "stdout",
          "text": [
            "start iteration\n",
            "No.0 times iterables\n",
            "lambd_grad: -0.004997600000000019\n",
            "lambd: 0.00024988000000000093\n"
          ]
        },
        {
          "output_type": "display_data",
          "data": {
            "text/plain": [
              "<Figure size 432x288 with 1 Axes>"
            ],
            "image/png": "[encoded data removed]"
          },
          "metadata": {
            "needs_background": "light"
          }
        },
        {
          "output_type": "stream",
          "name": "stdout",
          "text": [
            "after 500 iteration: lambda = 0.00024988000000000093\n"
          ]
        }
      ]
    }
  ]
}